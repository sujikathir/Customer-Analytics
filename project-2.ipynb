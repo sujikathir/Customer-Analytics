{
 "cells": [
  {
   "cell_type": "code",
   "execution_count": 9,
   "id": "b920b9a0",
   "metadata": {},
   "outputs": [],
   "source": [
    " \n",
    "import pandas as pd\n",
    "import numpy as np\n",
    "import matplotlib.pyplot as plt\n",
    "import statsmodels.api as sm\n"
   ]
  },
  {
   "cell_type": "code",
   "execution_count": 8,
   "id": "67ef1f50",
   "metadata": {},
   "outputs": [],
   "source": [
    "from scipy.stats import poisson\n",
    "from scipy.optimize import minimize\n",
    "from scipy.special import gamma\n",
    "import math\n",
    "from scipy.stats.distributions import chi2\n",
    "from math import factorial"
   ]
  },
  {
   "cell_type": "markdown",
   "id": "5c0e1dc4",
   "metadata": {},
   "source": [
    "# Part I"
   ]
  },
  {
   "cell_type": "code",
   "execution_count": 5,
   "id": "d64c2b20",
   "metadata": {},
   "outputs": [
    {
     "data": {
      "text/html": [
       "<div>\n",
       "<style scoped>\n",
       "    .dataframe tbody tr th:only-of-type {\n",
       "        vertical-align: middle;\n",
       "    }\n",
       "\n",
       "    .dataframe tbody tr th {\n",
       "        vertical-align: top;\n",
       "    }\n",
       "\n",
       "    .dataframe thead th {\n",
       "        text-align: right;\n",
       "    }\n",
       "</style>\n",
       "<table border=\"1\" class=\"dataframe\">\n",
       "  <thead>\n",
       "    <tr style=\"text-align: right;\">\n",
       "      <th></th>\n",
       "      <th>Packs</th>\n",
       "      <th>People</th>\n",
       "    </tr>\n",
       "  </thead>\n",
       "  <tbody>\n",
       "    <tr>\n",
       "      <th>0</th>\n",
       "      <td>0</td>\n",
       "      <td>102</td>\n",
       "    </tr>\n",
       "    <tr>\n",
       "      <th>1</th>\n",
       "      <td>1</td>\n",
       "      <td>54</td>\n",
       "    </tr>\n",
       "    <tr>\n",
       "      <th>2</th>\n",
       "      <td>2</td>\n",
       "      <td>49</td>\n",
       "    </tr>\n",
       "    <tr>\n",
       "      <th>3</th>\n",
       "      <td>3</td>\n",
       "      <td>62</td>\n",
       "    </tr>\n",
       "    <tr>\n",
       "      <th>4</th>\n",
       "      <td>4</td>\n",
       "      <td>44</td>\n",
       "    </tr>\n",
       "    <tr>\n",
       "      <th>5</th>\n",
       "      <td>5</td>\n",
       "      <td>25</td>\n",
       "    </tr>\n",
       "    <tr>\n",
       "      <th>6</th>\n",
       "      <td>6</td>\n",
       "      <td>26</td>\n",
       "    </tr>\n",
       "    <tr>\n",
       "      <th>7</th>\n",
       "      <td>7</td>\n",
       "      <td>15</td>\n",
       "    </tr>\n",
       "    <tr>\n",
       "      <th>8</th>\n",
       "      <td>8</td>\n",
       "      <td>15</td>\n",
       "    </tr>\n",
       "    <tr>\n",
       "      <th>9</th>\n",
       "      <td>9</td>\n",
       "      <td>10</td>\n",
       "    </tr>\n",
       "  </tbody>\n",
       "</table>\n",
       "</div>"
      ],
      "text/plain": [
       "   Packs  People\n",
       "0      0     102\n",
       "1      1      54\n",
       "2      2      49\n",
       "3      3      62\n",
       "4      4      44\n",
       "5      5      25\n",
       "6      6      26\n",
       "7      7      15\n",
       "8      8      15\n",
       "9      9      10"
      ]
     },
     "execution_count": 5,
     "metadata": {},
     "output_type": "execute_result"
    }
   ],
   "source": [
    "candy = pd.read_csv('/Users/asadmemon/Downloads/candy(1).csv')\n",
    "candy.head(10)"
   ]
  },
  {
   "cell_type": "code",
   "execution_count": 7,
   "id": "e09ef31f",
   "metadata": {},
   "outputs": [
    {
     "data": {
      "text/html": [
       "<div>\n",
       "<style scoped>\n",
       "    .dataframe tbody tr th:only-of-type {\n",
       "        vertical-align: middle;\n",
       "    }\n",
       "\n",
       "    .dataframe tbody tr th {\n",
       "        vertical-align: top;\n",
       "    }\n",
       "\n",
       "    .dataframe thead th {\n",
       "        text-align: right;\n",
       "    }\n",
       "</style>\n",
       "<table border=\"1\" class=\"dataframe\">\n",
       "  <thead>\n",
       "    <tr style=\"text-align: right;\">\n",
       "      <th></th>\n",
       "      <th>Packs</th>\n",
       "      <th>People</th>\n",
       "    </tr>\n",
       "  </thead>\n",
       "  <tbody>\n",
       "    <tr>\n",
       "      <th>count</th>\n",
       "      <td>21.000000</td>\n",
       "      <td>21.000000</td>\n",
       "    </tr>\n",
       "    <tr>\n",
       "      <th>mean</th>\n",
       "      <td>10.000000</td>\n",
       "      <td>21.714286</td>\n",
       "    </tr>\n",
       "    <tr>\n",
       "      <th>std</th>\n",
       "      <td>6.204837</td>\n",
       "      <td>26.306164</td>\n",
       "    </tr>\n",
       "    <tr>\n",
       "      <th>min</th>\n",
       "      <td>0.000000</td>\n",
       "      <td>1.000000</td>\n",
       "    </tr>\n",
       "    <tr>\n",
       "      <th>25%</th>\n",
       "      <td>5.000000</td>\n",
       "      <td>4.000000</td>\n",
       "    </tr>\n",
       "    <tr>\n",
       "      <th>50%</th>\n",
       "      <td>10.000000</td>\n",
       "      <td>10.000000</td>\n",
       "    </tr>\n",
       "    <tr>\n",
       "      <th>75%</th>\n",
       "      <td>15.000000</td>\n",
       "      <td>26.000000</td>\n",
       "    </tr>\n",
       "    <tr>\n",
       "      <th>max</th>\n",
       "      <td>20.000000</td>\n",
       "      <td>102.000000</td>\n",
       "    </tr>\n",
       "  </tbody>\n",
       "</table>\n",
       "</div>"
      ],
      "text/plain": [
       "           Packs      People\n",
       "count  21.000000   21.000000\n",
       "mean   10.000000   21.714286\n",
       "std     6.204837   26.306164\n",
       "min     0.000000    1.000000\n",
       "25%     5.000000    4.000000\n",
       "50%    10.000000   10.000000\n",
       "75%    15.000000   26.000000\n",
       "max    20.000000  102.000000"
      ]
     },
     "execution_count": 7,
     "metadata": {},
     "output_type": "execute_result"
    }
   ],
   "source": [
    "candy.describe()"
   ]
  },
  {
   "cell_type": "code",
   "execution_count": 10,
   "id": "9b9e3fc9",
   "metadata": {
    "scrolled": true
   },
   "outputs": [
    {
     "data": {
      "image/png": "[encoded data removed]",
      "text/plain": [
       "<Figure size 432x288 with 1 Axes>"
      ]
     },
     "metadata": {
      "needs_background": "light"
     },
     "output_type": "display_data"
    }
   ],
   "source": [
    "plt.xlim([-0.3, 22])\n",
    "plt.ylim([-0.5, 105])\n",
    "plt.xlabel(\"Packs\")\n",
    "plt.ylabel(\"Number of People\")\n",
    "plt.scatter(candy.Packs, data_cd.People)\n",
    "plt.plot(candy.Packs, data_cd.People)\n",
    "plt.show()"
   ]
  },
  {
   "cell_type": "markdown",
   "id": "e6782f24",
   "metadata": {},
   "source": [
    "# the Poisson Model"
   ]
  },
  {
   "cell_type": "code",
   "execution_count": 39,
   "id": "c7f5ed11",
   "metadata": {},
   "outputs": [],
   "source": [
    "# parammeters: decision variables\n",
    "\n",
    "def LL1(params, inputs):\n",
    "    lambda_v = params\n",
    "    probs = []\n",
    "    lls = []\n",
    "\n",
    "    pds = list(range(len(inputs)))\n",
    "    for i in pds:\n",
    "#         prob = poisson.pmf(inputs[i,0], lambda_v[[0]])\n",
    "        prob = (lambda_v**inputs[i,0] * math.exp(-lambda_v))/math.factorial(inputs[i,0])\n",
    "        probs.append(prob)\n",
    "        ll = inputs[i,1] * math.log(prob)\n",
    "        lls.append(ll)\n",
    "\n",
    "    return lls"
   ]
  },
  {
   "cell_type": "code",
   "execution_count": 40,
   "id": "ec00cc92",
   "metadata": {},
   "outputs": [],
   "source": [
    "def NLL1(params, inputs):\n",
    "    return(-np.sum(LL1(params, inputs)))"
   ]
  },
  {
   "cell_type": "code",
   "execution_count": 41,
   "id": "ace62a6a",
   "metadata": {},
   "outputs": [],
   "source": [
    "\n",
    "params = np.array((0.5))\n",
    "inputs = np.array(candy)"
   ]
  },
  {
   "cell_type": "code",
   "execution_count": 43,
   "id": "43d62ca3",
   "metadata": {},
   "outputs": [],
   "source": [
    "\n",
    "soln1 = minimize(\n",
    "    NLL1,\n",
    "    args = inputs,\n",
    "    x0 = params,\n",
    "    bounds=[(0.000001, None)],\n",
    "    tol=1e-10,\n",
    "    options={'ftol' : 1e-8},\n",
    ")"
   ]
  },
  {
   "cell_type": "code",
   "execution_count": 44,
   "id": "351d3e37",
   "metadata": {
    "scrolled": true
   },
   "outputs": [
    {
     "data": {
      "text/plain": [
       "      fun: 1544.9963904489794\n",
       " hess_inv: <1x1 LbfgsInvHessProduct with dtype=float64>\n",
       "      jac: array([-6.8212103e-05])\n",
       "  message: 'CONVERGENCE: REL_REDUCTION_OF_F_<=_FACTR*EPSMCH'\n",
       "     nfev: 20\n",
       "      nit: 9\n",
       "     njev: 10\n",
       "   status: 0\n",
       "  success: True\n",
       "        x: array([3.9912276])"
      ]
     },
     "execution_count": 44,
     "metadata": {},
     "output_type": "execute_result"
    }
   ],
   "source": [
    "soln1"
   ]
  },
  {
   "cell_type": "code",
   "execution_count": 60,
   "id": "c12ffdad",
   "metadata": {},
   "outputs": [
    {
     "data": {
      "text/plain": [
       "3.99"
      ]
     },
     "execution_count": 60,
     "metadata": {},
     "output_type": "execute_result"
    }
   ],
   "source": [
    "lambda_ = soln1.x[0].round(2)\n",
    "lambda_"
   ]
  },
  {
   "cell_type": "markdown",
   "id": "5ba5b79e",
   "metadata": {},
   "source": [
    " lambda is 3.99, and the maximum value of the log-likelihood is -1544.9964. "
   ]
  },
  {
   "cell_type": "markdown",
   "id": "42227adc",
   "metadata": {},
   "source": [
    "# NBD Model"
   ]
  },
  {
   "cell_type": "code",
   "execution_count": 46,
   "id": "d061920c",
   "metadata": {},
   "outputs": [],
   "source": [
    "# params: decision variables\n",
    "\n",
    "def LL2(params, inputs):\n",
    "    shape_n,alpha = params\n",
    "\n",
    "    probs = []\n",
    "    lls = []\n",
    "    pds = list(range(len(inputs)))\n",
    "    \n",
    "    for i in pds:\n",
    "        if i == 0:\n",
    "            prob = (alpha/(alpha+1))**shape_n\n",
    "            probs.append(prob)\n",
    "            ll = inputs[0,1] * math.log(prob)\n",
    "            lls.append(ll)\n",
    "        else:\n",
    "            prob = ((shape_n+inputs[i,0]-1)/(inputs[i,0]*(alpha+1)))*probs[i-1]\n",
    "            probs.append(prob)\n",
    "            ll = inputs[i,1] * math.log(prob)\n",
    "            lls.append(ll)\n",
    "        \n",
    "# return the log-likelihood expression\n",
    "    return lls"
   ]
  },
  {
   "cell_type": "code",
   "execution_count": 47,
   "id": "cf35f6ae",
   "metadata": {},
   "outputs": [],
   "source": [
    "def NLL2(params, inputs):\n",
    "    return(-np.sum(LL2(params, inputs)))"
   ]
  },
  {
   "cell_type": "code",
   "execution_count": 48,
   "id": "5df30218",
   "metadata": {},
   "outputs": [],
   "source": [
    "params = np.array((1, 0.5))\n",
    "inputs = np.array(data_cd)"
   ]
  },
  {
   "cell_type": "code",
   "execution_count": 49,
   "id": "22984261",
   "metadata": {},
   "outputs": [],
   "source": [
    "\n",
    "soln2 = minimize(\n",
    "    NLL2,\n",
    "    args = inputs,\n",
    "    x0 = params,\n",
    "    bounds=[(0.000001, None),(0.000001, None)],\n",
    "    tol=1e-10,\n",
    "    options={'ftol' : 1e-8},\n",
    ")"
   ]
  },
  {
   "cell_type": "code",
   "execution_count": 50,
   "id": "9edf1204",
   "metadata": {
    "scrolled": false
   },
   "outputs": [
    {
     "data": {
      "text/plain": [
       "      fun: 1140.0237462438763\n",
       " hess_inv: <2x2 LbfgsInvHessProduct with dtype=float64>\n",
       "      jac: array([-0.00404725,  0.00111413])\n",
       "  message: 'CONVERGENCE: REL_REDUCTION_OF_F_<=_FACTR*EPSMCH'\n",
       "     nfev: 33\n",
       "      nit: 7\n",
       "     njev: 11\n",
       "   status: 0\n",
       "  success: True\n",
       "        x: array([0.99762761, 0.24995524])"
      ]
     },
     "execution_count": 50,
     "metadata": {},
     "output_type": "execute_result"
    }
   ],
   "source": [
    "soln2"
   ]
  },
  {
   "cell_type": "code",
   "execution_count": 51,
   "id": "32b92023",
   "metadata": {},
   "outputs": [
    {
     "name": "stdout",
     "output_type": "stream",
     "text": [
      "shape_n: 0.998 \n",
      "alpha: 0.25\n"
     ]
    }
   ],
   "source": [
    "shape_n = soln2.x[0].round(3)\n",
    "alpha = soln2.x[1].round(2)\n",
    "\n",
    "print('shape_n:', shape_n, '\\nalpha:', alpha)"
   ]
  },
  {
   "cell_type": "markdown",
   "id": "a273d5a7",
   "metadata": {},
   "source": [
    "shape_n and alpha are 0.99 and 0.2500 and the maximum value of the log-likelihood is -1140.02"
   ]
  },
  {
   "cell_type": "markdown",
   "id": "9a75f49a",
   "metadata": {},
   "source": [
    "# Zero Inﬂated NBD model"
   ]
  },
  {
   "cell_type": "code",
   "execution_count": 54,
   "id": "ba311b70",
   "metadata": {},
   "outputs": [],
   "source": [
    "\n",
    "\n",
    "def LL3(params, inputs):\n",
    "    shape_n, alpha, pi = params\n",
    "\n",
    "    nbds = []\n",
    "    lls = []\n",
    "    \n",
    "    pds = list(range(len(inputs)))\n",
    "    \n",
    "    for i in pds:\n",
    "        if i == 0:\n",
    "            nbd = (alpha/(alpha+1))**shape_n\n",
    "            nbds.append(nbd)\n",
    "            prob = pi + (1-pi)*nbd\n",
    "            ll = inputs[0,1] * math.log(prob)\n",
    "            lls.append(ll)\n",
    "        else:\n",
    "            nbd = ((shape_n+inputs[i,0]-1)/(inputs[i,0]*(alpha+1)))*nbds[i-1]\n",
    "            nbds.append(nbd)\n",
    "            prob = (1-pi)*nbd\n",
    "            ll = inputs[i,1] * math.log(prob)\n",
    "            lls.append(ll)\n",
    "            \n",
    "    return lls"
   ]
  },
  {
   "cell_type": "code",
   "execution_count": 55,
   "id": "d70bb312",
   "metadata": {},
   "outputs": [],
   "source": [
    "def NLL3(params, inputs):\n",
    "    return(-np.sum(LL3(params, inputs)))"
   ]
  },
  {
   "cell_type": "code",
   "execution_count": 56,
   "id": "f27c109b",
   "metadata": {},
   "outputs": [],
   "source": [
    "params = np.array([1, 0.5, 0.1])\n",
    "inputs = np.array(candy)"
   ]
  },
  {
   "cell_type": "code",
   "execution_count": 57,
   "id": "85480c20",
   "metadata": {},
   "outputs": [],
   "source": [
    "\n",
    "soln3 = minimize(\n",
    "    NLL3,\n",
    "    args = inputs,\n",
    "    x0 = params,\n",
    "    bounds=[(0.000001, None), (0.000001, None), (0.000001, None)],\n",
    "    tol=1e-10,\n",
    "    options={'ftol' : 1e-8},\n",
    ")"
   ]
  },
  {
   "cell_type": "code",
   "execution_count": 58,
   "id": "c13bad7b",
   "metadata": {
    "scrolled": true
   },
   "outputs": [
    {
     "data": {
      "text/plain": [
       "      fun: 1136.16564084047\n",
       " hess_inv: <3x3 LbfgsInvHessProduct with dtype=float64>\n",
       "      jac: array([-7.95807869e-04,  4.54747351e-05,  2.66027200e-03])\n",
       "  message: 'CONVERGENCE: REL_REDUCTION_OF_F_<=_FACTR*EPSMCH'\n",
       "     nfev: 44\n",
       "      nit: 9\n",
       "     njev: 11\n",
       "   status: 0\n",
       "  success: True\n",
       "        x: array([1.50389249, 0.33418248, 0.11310312])"
      ]
     },
     "execution_count": 58,
     "metadata": {},
     "output_type": "execute_result"
    }
   ],
   "source": [
    "soln3"
   ]
  },
  {
   "cell_type": "markdown",
   "id": "628cdc99",
   "metadata": {},
   "source": [
    "#### Get shape_n, alpha & pi"
   ]
  },
  {
   "cell_type": "code",
   "execution_count": 61,
   "id": "e81e43e8",
   "metadata": {},
   "outputs": [
    {
     "name": "stdout",
     "output_type": "stream",
     "text": [
      "shape_n: 1.504 \n",
      "alpha: 0.334 \n",
      "pi: 0.113\n"
     ]
    }
   ],
   "source": [
    "shape_n = soln3.x[0].round(3)\n",
    "alpha = soln3.x[1].round(3)\n",
    "pi  = soln3.x[2].round(3)\n",
    "print('shape_n:', shape_n, '\\nalpha:', alpha, '\\npi:', pi)"
   ]
  },
  {
   "cell_type": "markdown",
   "id": "14579ccc",
   "metadata": {},
   "source": [
    "<b> </b> shape_n, alpha and phi are 1.504, 0.334 and 0.113, and the maximum value of the log-likelihood is -1136.1656. "
   ]
  },
  {
   "cell_type": "markdown",
   "id": "e7a49275",
   "metadata": {},
   "source": [
    "### (d). Finite mixture models"
   ]
  },
  {
   "cell_type": "markdown",
   "id": "9c2d01b9",
   "metadata": {},
   "source": [
    "### 2 Segments"
   ]
  },
  {
   "cell_type": "code",
   "execution_count": 62,
   "id": "4ff4b46b",
   "metadata": {},
   "outputs": [],
   "source": [
    "\n",
    "\n",
    "def LL4(params, inputs):\n",
    "    lambda1, lambda2, pi = params\n",
    "\n",
    "# lls[]: log likelihood\n",
    "    probs = []\n",
    "    lls = []\n",
    "    \n",
    "    pds = list(range(len(inputs)))\n",
    "    for i in pds:\n",
    "        prob = pi * ((lambda1**inputs[i,0] * math.exp(-lambda1))/math.factorial(inputs[i,0])) + (1 - pi) * ((lambda2**inputs[i,0] * math.exp(-lambda2))/math.factorial(inputs[i,0])) \n",
    "        probs.append(prob)\n",
    "        ll = inputs[i,1] * math.log(prob)\n",
    "        lls.append(ll)\n",
    "    return lls"
   ]
  },
  {
   "cell_type": "code",
   "execution_count": 63,
   "id": "e14077a8",
   "metadata": {},
   "outputs": [],
   "source": [
    "def NLL4(params, inputs):\n",
    "    return(-np.sum(LL4(params, inputs)))"
   ]
  },
  {
   "cell_type": "code",
   "execution_count": 64,
   "id": "a1c4227c",
   "metadata": {},
   "outputs": [],
   "source": [
    "params = np.array([0.1, 0.1, 0.1])\n",
    "inputs_data = candy.copy()"
   ]
  },
  {
   "cell_type": "code",
   "execution_count": 66,
   "id": "ba7de0ce",
   "metadata": {},
   "outputs": [],
   "source": [
    "\n",
    "soln4= minimize(\n",
    "    NLL4,\n",
    "    args = inputs,\n",
    "    x0 = params,\n",
    "    bounds=[(0.000001, None), (0.000001, None), (0.000001, None)],\n",
    "    tol=1e-10,\n",
    "    options={'ftol' : 1e-8},\n",
    ")"
   ]
  },
  {
   "cell_type": "code",
   "execution_count": 67,
   "id": "c7841dee",
   "metadata": {
    "scrolled": true
   },
   "outputs": [
    {
     "data": {
      "text/plain": [
       "      fun: 1188.8328271736993\n",
       " hess_inv: <3x3 LbfgsInvHessProduct with dtype=float64>\n",
       "      jac: array([-0.0001819 ,  0.00011369, -0.0013415 ])\n",
       "  message: 'CONVERGENCE: REL_REDUCTION_OF_F_<=_FACTR*EPSMCH'\n",
       "     nfev: 72\n",
       "      nit: 16\n",
       "     njev: 18\n",
       "   status: 0\n",
       "  success: True\n",
       "        x: array([1.802153  , 9.12069679, 0.7008856 ])"
      ]
     },
     "execution_count": 67,
     "metadata": {},
     "output_type": "execute_result"
    }
   ],
   "source": [
    "soln4"
   ]
  },
  {
   "cell_type": "markdown",
   "id": "9a0032b7",
   "metadata": {},
   "source": [
    "####  lambdas and phi"
   ]
  },
  {
   "cell_type": "code",
   "execution_count": 68,
   "id": "0e5ef285",
   "metadata": {},
   "outputs": [
    {
     "name": "stdout",
     "output_type": "stream",
     "text": [
      "lambda1: 1.802153001604175 \n",
      "lambda2: 9.120696789684153 \n",
      "pi: 0.7008855952860611\n"
     ]
    }
   ],
   "source": [
    "lambda1 = soln4.x[0]\n",
    "lambda2 = soln4.x[1]\n",
    "pi = soln4.x[2]\n",
    "print('lambda1:', lambda1, '\\nlambda2:', lambda2, '\\npi:', pi)"
   ]
  },
  {
   "cell_type": "markdown",
   "id": "3a1aa9cf",
   "metadata": {},
   "source": [
    "<b> Observation I-1d1: </b> The estimated parameter lambda1, lambda2, pi are 1.8022, 9.1207, 0.7009, and the maximum value of the log-likelihood is -1188.8328. "
   ]
  },
  {
   "cell_type": "markdown",
   "id": "27f659d5",
   "metadata": {},
   "source": [
    "### 3 Segments"
   ]
  },
  {
   "cell_type": "code",
   "execution_count": 69,
   "id": "829e936b",
   "metadata": {},
   "outputs": [],
   "source": [
    "\n",
    "\n",
    "def LL5(params, inputs):\n",
    "    lambda1, lambda2, lambda3, theta1, theta2, theta3 = params\n",
    "    theta1_exp = math.exp(theta1)\n",
    "    theta2_exp = math.exp(theta2)\n",
    "    theta3_exp = math.exp(theta3)\n",
    "    theta_exp_sum = theta1_exp + theta2_exp + theta3_exp\n",
    "    pert1 = theta1_exp/theta_exp_sum\n",
    "    pert2 = theta2_exp/theta_exp_sum\n",
    "    pert3 = theta3_exp/theta_exp_sum\n",
    "    \n",
    "    probs = []\n",
    "    lls = []\n",
    "    \n",
    "    pds = list(range(len(inputs)))\n",
    "    for i in pds:\n",
    "        prob = pert1 * ((lambda1**inputs[i,0] * math.exp(-lambda1))/math.factorial(inputs[i,0])) + pert2 * ((lambda2**inputs[i,0] * math.exp(-lambda2))/math.factorial(inputs[i,0])) + pert3 * ((lambda3**inputs[i,0] * math.exp(-lambda3))/math.factorial(inputs[i,0])) \n",
    "        probs.append(prob)\n",
    "        ll = inputs[i,1] * math.log(prob)\n",
    "        lls.append(ll)\n",
    "        # return the log-likelihood expression\n",
    "    return lls"
   ]
  },
  {
   "cell_type": "code",
   "execution_count": 70,
   "id": "d72c9686",
   "metadata": {},
   "outputs": [],
   "source": [
    "def NLL5(params, inputs):\n",
    "    return(-np.sum(LL5(params, inputs)))"
   ]
  },
  {
   "cell_type": "code",
   "execution_count": 71,
   "id": "146369ed",
   "metadata": {},
   "outputs": [],
   "source": [
    "params = np.array([0.1, 1, 10, 0.1, 0.1, 0.1])\n",
    "\n",
    "inputs_data = candy.copy()"
   ]
  },
  {
   "cell_type": "code",
   "execution_count": 73,
   "id": "b0484524",
   "metadata": {},
   "outputs": [],
   "source": [
    "\n",
    "soln5 = minimize(\n",
    "    NLL5,\n",
    "    args = inputs,\n",
    "    x0 = params,\n",
    "    bounds=[(0.000001, None), (0.000001, None), (0.000001, None), (0.000001, None), (0.000001, None), (0.000001, None)],\n",
    "    tol=1e-10,\n",
    "    options={'ftol' : 1e-8},\n",
    ")"
   ]
  },
  {
   "cell_type": "code",
   "execution_count": 74,
   "id": "6c2ce7f4",
   "metadata": {
    "scrolled": true
   },
   "outputs": [
    {
     "data": {
      "text/plain": [
       "      fun: 1132.0429842564893\n",
       " hess_inv: <6x6 LbfgsInvHessProduct with dtype=float64>\n",
       "      jac: array([-6.82121027e-05, -6.82121030e-05,  2.27373657e-05,  0.00000000e+00,\n",
       "        6.82121030e-05, -6.82121026e-05])\n",
       "  message: 'CONVERGENCE: REL_REDUCTION_OF_F_<=_FACTR*EPSMCH'\n",
       "     nfev: 119\n",
       "      nit: 15\n",
       "     njev: 17\n",
       "   status: 0\n",
       "  success: True\n",
       "        x: array([ 0.29054117,  3.48331462, 11.21580111,  0.46216205,  1.13659174,\n",
       "        0.03174029])"
      ]
     },
     "execution_count": 74,
     "metadata": {},
     "output_type": "execute_result"
    }
   ],
   "source": [
    "soln5"
   ]
  },
  {
   "cell_type": "code",
   "execution_count": 76,
   "id": "11b078fa",
   "metadata": {},
   "outputs": [
    {
     "name": "stdout",
     "output_type": "stream",
     "text": [
      "lambda1: 0.29054116772455 \n",
      "lambda2: 3.4833146209446104 \n",
      "lambda3: 11.215801106983662 \n",
      "theta1: 0.4621620526587123 \n",
      "theta2: 1.1365917368169594 \n",
      "theta3: 0.031740287843917726\n"
     ]
    }
   ],
   "source": [
    "lambda1 = soln5.x[0]\n",
    "lambda2 = soln5.x[1]\n",
    "lambda3 = soln5.x[2]\n",
    "theta1 = soln5.x[3]\n",
    "theta2 = soln5.x[4]\n",
    "theta3 = soln5.x[5]\n",
    "print('lambda1:', lambda1, '\\nlambda2:', lambda2, '\\nlambda3:', lambda3, '\\ntheta1:', theta1, '\\ntheta2:', theta2, '\\ntheta3:', theta3)"
   ]
  },
  {
   "cell_type": "markdown",
   "id": "c4faf641",
   "metadata": {},
   "source": [
    "<b> Observation I-1d2: </b> parameter lambda1, lambda2, lambda3, theta1, theta2, and theta3 are 0.2905, 3.4833, 11.2158, 0.4622, 1.1366, 0.0317 and the maximum value of the log-likelihood is -1132.0430. "
   ]
  },
  {
   "cell_type": "markdown",
   "id": "4dc67792",
   "metadata": {},
   "source": [
    "### 4 Segments"
   ]
  },
  {
   "cell_type": "code",
   "execution_count": 77,
   "id": "98d83de6",
   "metadata": {},
   "outputs": [],
   "source": [
    "\n",
    "\n",
    "def LL6(params, inputs):\n",
    "    lambda1, lambda2, lambda3, lambda4, theta1, theta2, theta3, theta4 = params\n",
    "    theta1_exp = math.exp(theta1)\n",
    "    theta2_exp = math.exp(theta2)\n",
    "    theta3_exp = math.exp(theta3)\n",
    "    theta4_exp = math.exp(theta4)\n",
    "    theta_exp_sum = theta1_exp + theta2_exp + theta3_exp + theta4_exp\n",
    "    pert1 = theta1_exp/theta_exp_sum\n",
    "    pert2 = theta2_exp/theta_exp_sum\n",
    "    pert3 = theta3_exp/theta_exp_sum\n",
    "    pert4 = theta4_exp/theta_exp_sum\n",
    "    \n",
    "    probs = []\n",
    "    lls = []\n",
    "    \n",
    "    pds = list(range(len(inputs)))\n",
    "    for i in pds:\n",
    "        prob = pert1 * ((lambda1**inputs[i,0] * math.exp(-lambda1))/math.factorial(inputs[i,0])) + pert2 * ((lambda2**inputs[i,0] * math.exp(-lambda2))/math.factorial(inputs[i,0])) + pert3 * ((lambda3**inputs[i,0] * math.exp(-lambda3))/math.factorial(inputs[i,0])) + pert4 * ((lambda4**inputs[i,0] * math.exp(-lambda4))/math.factorial(inputs[i,0]))\n",
    "        probs.append(prob)\n",
    "        ll = inputs[i,1] * math.log(prob)\n",
    "        lls.append(ll)\n",
    "    return lls"
   ]
  },
  {
   "cell_type": "code",
   "execution_count": 78,
   "id": "d51a686c",
   "metadata": {},
   "outputs": [],
   "source": [
    "def NLL6(params, inputs):\n",
    "    return(-np.sum(LL6(params, inputs)))"
   ]
  },
  {
   "cell_type": "code",
   "execution_count": 79,
   "id": "e11789c7",
   "metadata": {},
   "outputs": [],
   "source": [
    "params = np.array([3, 0.1, 1, 10, 0.1, 0.1, 0.1, 0.1])\n",
    "inputs_data = candy.copy()"
   ]
  },
  {
   "cell_type": "code",
   "execution_count": 80,
   "id": "ae98f6af",
   "metadata": {},
   "outputs": [],
   "source": [
    "\n",
    "soln6 = minimize(\n",
    "    NLL6,\n",
    "    args = inputs,\n",
    "    x0 = params,\n",
    "    bounds=[(0.000001, None), (0.000001, None), (0.000001, None), (0.000001, None), (0.000001, None), (0.000001, None), (0.000001, None), (0.000001, None)],\n",
    "    tol=1e-10,\n",
    "    options={'ftol' : 1e-8},\n",
    ")"
   ]
  },
  {
   "cell_type": "code",
   "execution_count": 81,
   "id": "3edc6a35",
   "metadata": {
    "scrolled": true
   },
   "outputs": [
    {
     "data": {
      "text/plain": [
       "      fun: 1130.0705944310007\n",
       " hess_inv: <8x8 LbfgsInvHessProduct with dtype=float64>\n",
       "      jac: array([ 4.54747354e-04, -7.82165444e-03, -5.91171560e-04,  6.82120970e-05,\n",
       "        1.15960575e-03, -6.23003868e-03,  1.09139365e-03,  3.97903932e-03])\n",
       "  message: 'CONVERGENCE: REL_REDUCTION_OF_F_<=_FACTR*EPSMCH'\n",
       "     nfev: 351\n",
       "      nit: 35\n",
       "     njev: 39\n",
       "   status: 0\n",
       "  success: True\n",
       "        x: array([7.41529007e+00, 2.04470021e-01, 3.00115442e+00, 1.28710078e+01,\n",
       "       3.97447809e-01, 8.74879880e-01, 1.59730090e+00, 1.00000000e-06])"
      ]
     },
     "execution_count": 81,
     "metadata": {},
     "output_type": "execute_result"
    }
   ],
   "source": [
    "soln6"
   ]
  },
  {
   "cell_type": "code",
   "execution_count": 82,
   "id": "981e2031",
   "metadata": {},
   "outputs": [
    {
     "name": "stdout",
     "output_type": "stream",
     "text": [
      "lambda1: 7.41529007268682 \n",
      "lambda2: 0.20447002088960733 \n",
      "lambda3: 3.0011544201450358 \n",
      "lambda4: 12.871007759336745 \n",
      "theta1: 0.39744780898869453 \n",
      "theta2: 0.8748798803072207 \n",
      "theta3: 1.5973008953474823 \n",
      "theta4: 1e-06\n"
     ]
    }
   ],
   "source": [
    "lambda1 = soln6.x[0]\n",
    "lambda2 = soln6.x[1]\n",
    "lambda3 = soln6.x[2]\n",
    "lambda4 = soln6.x[3]\n",
    "theta1 = soln6.x[4]\n",
    "theta2 = soln6.x[5]\n",
    "theta3 = soln6.x[6]\n",
    "theta4 = soln6.x[7]\n",
    "print('lambda1:', lambda1, '\\nlambda2:', lambda2, '\\nlambda3:', lambda3, '\\nlambda4:', lambda4, '\\ntheta1:', theta1, '\\ntheta2:', theta2, '\\ntheta3:', theta3, '\\ntheta4:', theta4)"
   ]
  },
  {
   "cell_type": "markdown",
   "id": "13aed56f",
   "metadata": {},
   "source": [
    "<b> Observation I-1d4: </b> parameter lambda1, lambda2, lambda3, lambda4, theta1, theta2, theta3 and theta4 are 7.4153, 0.2045, 3.0012, 12.8710, 0.3974, 0.8749, 1.5973, 1e-06  and the maximum value of the log-likelihood is -1132.0430. "
   ]
  },
  {
   "cell_type": "markdown",
   "id": "4432efe1",
   "metadata": {},
   "source": [
    "## I-2. Evaluate the models developed; explain which of them is best, and why. \n",
    "\n",
    "Are there any signiﬁcant diﬀerences among the results from these models? If so, what exactly are these diﬀerences? Discuss what you believe could be causing the diﬀerences."
   ]
  },
  {
   "cell_type": "markdown",
   "id": "7b450c62",
   "metadata": {},
   "source": [
    "### comparing the Log-likelihood Ratios for the highest\n",
    "\n",
    "\n",
    "\n",
    "(a) Poisson model: -1544.99\n",
    "\n",
    "(b) NBD model: -1140\n",
    "\n",
    "(c) Zero Inflated NBD model: -1136.1656\n",
    " \n",
    "(d) Finite Mixture models: \n",
    "\n",
    "2 Segments: -1188.8328\n",
    "\n",
    "3 Segments: -1132.0430\n",
    "\n",
    "4 Segments: -1130.0706\n"
   ]
  },
  {
   "cell_type": "code",
   "execution_count": 87,
   "id": "eb2d4691",
   "metadata": {},
   "outputs": [],
   "source": [
    "LL_poisson = -1544.99\n",
    "LL_nbd = -1140.023\n",
    "LL_zinbd = -1136.16\n",
    "LL_2seg = -1188.83\n",
    "LL_3seg = -1132.04\n",
    "LL_4seg = -1130.07"
   ]
  },
  {
   "cell_type": "markdown",
   "id": "edb84e4c",
   "metadata": {},
   "source": [
    "4-segment Finite Mixture Model has the highest log-likelihood and hence is the best"
   ]
  },
  {
   "cell_type": "markdown",
   "id": "a3e65d57",
   "metadata": {},
   "source": [
    "### Method 2: AIC\n"
   ]
  },
  {
   "cell_type": "code",
   "execution_count": 88,
   "id": "e36671ce",
   "metadata": {},
   "outputs": [
    {
     "data": {
      "text/plain": [
       "3091.98"
      ]
     },
     "execution_count": 88,
     "metadata": {},
     "output_type": "execute_result"
    }
   ],
   "source": [
    "AIC_pois = -2 * LL_poisson + 2 * 1\n",
    "AIC_pois"
   ]
  },
  {
   "cell_type": "code",
   "execution_count": 89,
   "id": "0604b09d",
   "metadata": {},
   "outputs": [
    {
     "data": {
      "text/plain": [
       "2284.046"
      ]
     },
     "execution_count": 89,
     "metadata": {},
     "output_type": "execute_result"
    }
   ],
   "source": [
    "AIC_nbd = -2 * LL_nbd + 2 * 2\n",
    "AIC_nbd"
   ]
  },
  {
   "cell_type": "code",
   "execution_count": 90,
   "id": "37f9299a",
   "metadata": {},
   "outputs": [
    {
     "data": {
      "text/plain": [
       "2278.32"
      ]
     },
     "execution_count": 90,
     "metadata": {},
     "output_type": "execute_result"
    }
   ],
   "source": [
    "AIC_zi = -2 * LL_zinbd + 2 * 3\n",
    "AIC_zi"
   ]
  },
  {
   "cell_type": "code",
   "execution_count": 91,
   "id": "9cd27cb9",
   "metadata": {},
   "outputs": [
    {
     "data": {
      "text/plain": [
       "2383.66"
      ]
     },
     "execution_count": 91,
     "metadata": {},
     "output_type": "execute_result"
    }
   ],
   "source": [
    "AIC_2seg = -2 * LL_2seg + 2 * 3\n",
    "AIC_2seg"
   ]
  },
  {
   "cell_type": "code",
   "execution_count": 92,
   "id": "e9f4d07d",
   "metadata": {},
   "outputs": [
    {
     "data": {
      "text/plain": [
       "2274.08"
      ]
     },
     "execution_count": 92,
     "metadata": {},
     "output_type": "execute_result"
    }
   ],
   "source": [
    "AIC_3seg = -2 * LL_3seg + 2 * 5\n",
    "AIC_3seg"
   ]
  },
  {
   "cell_type": "code",
   "execution_count": 93,
   "id": "829f92d2",
   "metadata": {},
   "outputs": [
    {
     "data": {
      "text/plain": [
       "2274.14"
      ]
     },
     "execution_count": 93,
     "metadata": {},
     "output_type": "execute_result"
    }
   ],
   "source": [
    "AIC_4seg = -2 * LL_4seg + 2 * 7\n",
    "AIC_4seg"
   ]
  },
  {
   "cell_type": "markdown",
   "id": "bff12658",
   "metadata": {},
   "source": [
    "<b> Q2 </b> \n",
    "\n",
    "using the AIC criteria , the best model is 3-segment Finite Mixture Model with lowest AIC, which is 2274.08"
   ]
  },
  {
   "cell_type": "markdown",
   "id": "4551660b",
   "metadata": {},
   "source": [
    "### Method 3: BIC\n"
   ]
  },
  {
   "cell_type": "code",
   "execution_count": 99,
   "id": "f1556fb5",
   "metadata": {},
   "outputs": [
    {
     "data": {
      "text/plain": [
       "3093.0245224377236"
      ]
     },
     "execution_count": 99,
     "metadata": {},
     "output_type": "execute_result"
    }
   ],
   "source": [
    "N_rows = data_cd.shape[0]\n",
    "BIC_poisson = -2 * LL_poisson + np.log(N) * 1\n",
    "BIC_poisson"
   ]
  },
  {
   "cell_type": "code",
   "execution_count": 100,
   "id": "ef9ff604",
   "metadata": {},
   "outputs": [
    {
     "data": {
      "text/plain": [
       "2286.1350448754465"
      ]
     },
     "execution_count": 100,
     "metadata": {},
     "output_type": "execute_result"
    }
   ],
   "source": [
    "BIC_nbd = -2 * LL_nbd + np.log(N_rows) * 2\n",
    "BIC_nbd"
   ]
  },
  {
   "cell_type": "code",
   "execution_count": 101,
   "id": "086e3301",
   "metadata": {},
   "outputs": [
    {
     "data": {
      "text/plain": [
       "2281.4535673131704"
      ]
     },
     "execution_count": 101,
     "metadata": {},
     "output_type": "execute_result"
    }
   ],
   "source": [
    "BIC_zinbd = -2 * LL_zinbd + np.log(N_rows) * 3\n",
    "BIC_zinbd"
   ]
  },
  {
   "cell_type": "code",
   "execution_count": 102,
   "id": "77467254",
   "metadata": {},
   "outputs": [
    {
     "data": {
      "text/plain": [
       "2386.79356731317"
      ]
     },
     "execution_count": 102,
     "metadata": {},
     "output_type": "execute_result"
    }
   ],
   "source": [
    "# For 2-segment Finite Mixture Model, with 3 parameters\n",
    "BIC_2seg = -2 * LL_2seg + np.log(N_rows) * 3\n",
    "BIC_2seg"
   ]
  },
  {
   "cell_type": "code",
   "execution_count": 103,
   "id": "a7cc8598",
   "metadata": {},
   "outputs": [
    {
     "data": {
      "text/plain": [
       "2279.302612188617"
      ]
     },
     "execution_count": 103,
     "metadata": {},
     "output_type": "execute_result"
    }
   ],
   "source": [
    "# For 3-segment Finite Mixture Model, with 5 parameters\n",
    "BIC_3seg = -2 * LL_3seg + np.log(N_rows\n",
    "                                ) * 5\n",
    "BIC_3seg"
   ]
  },
  {
   "cell_type": "code",
   "execution_count": 104,
   "id": "62c3d7ff",
   "metadata": {},
   "outputs": [
    {
     "data": {
      "text/plain": [
       "2281.451657064064"
      ]
     },
     "execution_count": 104,
     "metadata": {},
     "output_type": "execute_result"
    }
   ],
   "source": [
    "# For 4-segment Finite Mixture Model, with 7 parameters\n",
    "BIC_4seg = -2 * LL_4seg + np.log(N) * 7\n",
    "BIC_4seg"
   ]
  },
  {
   "cell_type": "markdown",
   "id": "f79f96ba",
   "metadata": {},
   "source": [
    "<b> Observation I-2_3 </b> \n",
    "\n",
    "using BIC, the best model is 2-segment Finite Mixture Model with lowest BIC; 2386.79"
   ]
  },
  {
   "cell_type": "markdown",
   "id": "a9dc5475",
   "metadata": {},
   "source": [
    "<b> Observation I-2_4 </b>\n",
    "\n",
    "Are there any significant differences among the results from these models? If so, what exactly are these differences? Discuss what you believe could be causing the differences? \n",
    "\n",
    "Loglikelihood value assesses the fitness of models. If more variables are added to the model, the Loglikelihood value will increase but we cant trust the variables to have significant explanatory power\n",
    "\n",
    "\n",
    "AIC penalizes the model with more parameters by taking into consideration both the loglikelihood values and the no of parameters. The model with the lowest AIC is the 3-segment Finite Mixture Model\n",
    "\n",
    "BIC penalizes the model with more parameters and a higher number of observations. THe 2-segment Finite Mixture Model  has the lowest BIC. "
   ]
  },
  {
   "cell_type": "markdown",
   "id": "4112f8ef",
   "metadata": {},
   "source": [
    "## I-3\n",
    "Based on the 2, 3, and 4-segment ﬁnite mixture models, how many packs are the following customers likely to purchase over the next 8 weeks?"
   ]
  },
  {
   "cell_type": "markdown",
   "id": "7bad4573",
   "metadata": {},
   "source": [
    "### (a) a customer who purchased 5 packs in the past week"
   ]
  },
  {
   "cell_type": "markdown",
   "id": "6b2fd227",
   "metadata": {},
   "source": [
    "<b> 2-segment Finite Mixture Model </b>\n",
    "\n",
    " lambda1, lambda2, pi are 1.8022, 9.1207, 0.7009."
   ]
  },
  {
   "cell_type": "markdown",
   "id": "d84f37e3",
   "metadata": {},
   "source": [
    "\n",
    "\n",
    "$p(s=1|x=5) =   0.5156$\n",
    "\n",
    "$p(s=2|x=5) = 0.4844$\n",
    "\n",
    "likely to purchase in 8 weeks = 8 * (0.5156 * 1.8022 + 0.4844 * 9.1207) = 42.77\n"
   ]
  },
  {
   "cell_type": "markdown",
   "id": "311f9f0c",
   "metadata": {},
   "source": [
    "<b> 3-segment Finite Mixture Model </b>\n",
    "\n",
    " lambda1, lambda2, lambda3, theta1, theta2, and theta3 are 0.2905, 3.4833, 11.2158, 0.4622, 1.1366, 0.0317."
   ]
  },
  {
   "cell_type": "markdown",
   "id": "e29a12c6",
   "metadata": {},
   "source": [
    "\n",
    "\n",
    "$p(s=1|x=5) =  0.0001$\n",
    "\n",
    "$p(s=2|x=5) =0.9521$\n",
    "\n",
    "$p(s=3|x=5) =0.0478$\n",
    "\n",
    "likely to purchase in 8 weeks = 8 * (0.0001 * 0.2905 + 0.9521 * 3.4833 + 0.0478 * 11.2158) = 30.8250\n"
   ]
  },
  {
   "cell_type": "markdown",
   "id": "5ee16cd6",
   "metadata": {},
   "source": [
    "<b> 4-segment Finite Mixture Model </b>\n",
    "\n",
    " lambda1, lambda2, lambda3, lambda4, theta1, theta2, theta3 and theta4 are 7.4153, 0.2045, 3.0012, 12.8710, 0.3974, 0.8749, 1.5973, and 1e-06."
   ]
  },
  {
   "cell_type": "markdown",
   "id": "1b634258",
   "metadata": {},
   "source": [
    "\n",
    "\n",
    "$p(s=1|x=5) =0.2485$\n",
    "\n",
    "$p(s=2|x=5) =0.0001$\n",
    "\n",
    "$p(s=3|x=5) =0.7402$\n",
    "\n",
    "$p(s=4|x=5) = 0.0112$\n",
    "\n",
    "likely to purchase in 8 weeks = 8 * (0.2485 * 7.4153 + 0.0001 * 0.2045 + 0.7402 * 3.0012 + 0.0112 * 12.8710) = 33.6737\n"
   ]
  },
  {
   "cell_type": "markdown",
   "id": "98545e23",
   "metadata": {},
   "source": [
    "### (b) a customer who purchased 9 packs in the past week"
   ]
  },
  {
   "cell_type": "markdown",
   "id": "099d1cf5",
   "metadata": {},
   "source": [
    "<b> 2-segment Finite Mixture Model </b>\n",
    "\n",
    "The estimated parameter lambda1, lambda2, pi are 1.8022, 9.1207, 0.7009."
   ]
  },
  {
   "cell_type": "markdown",
   "id": "96690dd8",
   "metadata": {},
   "source": [
    "\n",
    "\n",
    "$p(s=1|x=9) = 0.0016$\n",
    "\n",
    "$p(s=2|x=9) = 0.9984$\n",
    "\n",
    "likely to purchase in 8 weeks = 8 * (0.0016 * 1.8022 + 0.9984 * 9.1207) = 72.8708\n"
   ]
  },
  {
   "cell_type": "markdown",
   "id": "3edb3e55",
   "metadata": {},
   "source": [
    "<b> 3-segment Finite Mixture Model </b>\n",
    "\n",
    "The estimated parameters lambda1, lambda2, lambda3, theta1, theta2, and theta3 are 0.2905, 3.4833, 11.2158, 0.4622, 1.1366, 0.0317."
   ]
  },
  {
   "cell_type": "markdown",
   "id": "62d36936",
   "metadata": {},
   "source": [
    "\n",
    "\n",
    "$p(s=1|x=9) = 0.0000$\n",
    "\n",
    "$p(s=2|x=9) = 0.1562$\n",
    "\n",
    "$p(s=3|x=9) = 0.8438$\n",
    "\n",
    "likely to purchase in 8 weeks = 8 * (0.0000 * 0.2905 + 0.1562 * 3.4833 + 0.8438 * 11.2158) = 80.0632\n"
   ]
  },
  {
   "cell_type": "markdown",
   "id": "f6cc1e60",
   "metadata": {},
   "source": [
    "<b> 4-segment Finite Mixture Model </b>\n",
    "\n",
    " lambda1, lambda2, lambda3, lambda4, theta1, theta2, theta3 and theta4 are 7.4153, 0.2045, 3.0012, 12.8710, 0.3974, 0.8749, 1.5973, and 1e-06."
   ]
  },
  {
   "cell_type": "markdown",
   "id": "2e2a89ee",
   "metadata": {},
   "source": [
    "\n",
    "\n",
    "$p(s=1|x=9) = 0.6709$\n",
    "\n",
    "$p(s=2|x=9) = 0.0000$\n",
    "\n",
    "$p(s=3|x=9) =  0.0536$\n",
    "\n",
    "$p(s=4|x=9) =0.2755$\n",
    "\n",
    "likely to purchase in 8 weeks = 8 * (0.6709 * 7.4153 + 0.0000 * 0.2045 + 0.0536 * 3.0012 + 0.2755 * 12.8710) = 69.4516\n"
   ]
  },
  {
   "cell_type": "markdown",
   "id": "d2ad18d6",
   "metadata": {},
   "source": [
    "# Part II"
   ]
  },
  {
   "cell_type": "markdown",
   "id": "17b2a6d1",
   "metadata": {},
   "source": [
    "In this question, you will apply the ideas learned in this course to build a model that you have not seen before\n",
    "– the Zero Inflated NBD Regression."
   ]
  },
  {
   "cell_type": "markdown",
   "id": "905bfd91",
   "metadata": {},
   "source": [
    "# Q-3 Part"
   ]
  },
  {
   "cell_type": "code",
   "execution_count": 14,
   "id": "b5ec2914",
   "metadata": {},
   "outputs": [],
   "source": [
    "articles = pd.read_csv('/Users/asadmemon/Downloads/articles.csv')"
   ]
  },
  {
   "cell_type": "code",
   "execution_count": 37,
   "id": "fde80f75",
   "metadata": {},
   "outputs": [],
   "source": [
    "\n",
    "\n",
    "def LL7(params, inputs):\n",
    "    shape_n, alpha, pi, beta1, beta2, beta3, beta4, beta5 = params\n",
    "\n",
    "    exp_betaXs = []\n",
    "    P1s = []\n",
    "    P2s = []\n",
    "    P3s = []\n",
    "    probs = []\n",
    "    lls = []\n",
    "    \n",
    "    pds = list(range(len(inputs)))\n",
    "    for i in pds:\n",
    "        exp_betaX = math.exp(beta1*inputs[i,1]+beta2*inputs[i,2]+beta3*inputs[i,3]+beta4*inputs[i,4]+beta5*inputs[i,5])\n",
    "        exp_betaXs.append(exp_betaX)\n",
    "        P1 = gamma(shape_n+inputs[i,0])/(gamma(shape_n)*factorial(inputs[i,0]))\n",
    "        P1s.append(P1)\n",
    "        P2 = (alpha/(alpha+exp_betaX))**shape_n\n",
    "        P2s.append(P2) \n",
    "        P3 = (exp_betaX/(alpha + exp_betaX))**inputs[i,0]\n",
    "        P3s.append(P3) \n",
    "        if inputs[i,0] == 0:\n",
    "            prob = pi + (1-pi)*(P1*P2*P3)\n",
    "        else:\n",
    "            prob = P1*P2*P3\n",
    "        probs.append(prob)\n",
    "        ll = math.log(prob)\n",
    "        lls.append(ll)\n",
    "    return lls\n",
    "\n",
    "\n"
   ]
  },
  {
   "cell_type": "code",
   "execution_count": 38,
   "id": "5d85f4c1",
   "metadata": {},
   "outputs": [],
   "source": [
    "def NLL7(params, inputs):\n",
    "    return(-np.sum(LL7(params, inputs)))"
   ]
  },
  {
   "cell_type": "code",
   "execution_count": 39,
   "id": "2319fef2",
   "metadata": {},
   "outputs": [
    {
     "data": {
      "text/plain": [
       "array([[ 0.  ,  0.  ,  1.  ,  0.  ,  2.52,  7.  ],\n",
       "       [ 0.  ,  1.  ,  0.  ,  0.  ,  2.05,  6.  ],\n",
       "       [ 0.  ,  1.  ,  0.  ,  0.  ,  3.75,  6.  ],\n",
       "       ...,\n",
       "       [12.  ,  0.  ,  1.  ,  1.  ,  1.86,  5.  ],\n",
       "       [16.  ,  0.  ,  1.  ,  0.  ,  1.74, 21.  ],\n",
       "       [19.  ,  0.  ,  1.  ,  0.  ,  1.86, 42.  ]])"
      ]
     },
     "execution_count": 39,
     "metadata": {},
     "output_type": "execute_result"
    }
   ],
   "source": [
    "params = np.array([0.1, 0.1, 0.1, 0.1, 0.1, 0.1, 0.1, 0.1])\n",
    "inputs = np.array(articles)\n",
    "inputs"
   ]
  },
  {
   "cell_type": "code",
   "execution_count": 40,
   "id": "77d7457e",
   "metadata": {},
   "outputs": [
    {
     "name": "stderr",
     "output_type": "stream",
     "text": [
      "/var/folders/jt/j21fv8150q3cp8lwv8p5d2680000gn/T/ipykernel_73774/2509062279.py:15: DeprecationWarning: Using factorial() with floats is deprecated\n",
      "  P1 = gamma(shape_n+inputs[i,0])/(gamma(shape_n)*factorial(inputs[i,0]))\n"
     ]
    }
   ],
   "source": [
    "\n",
    "soln7 = minimize(\n",
    "    NLL7,\n",
    "    args = inputs,\n",
    "    x0 = params,\n",
    "    bounds=[(0.000001, None), (0.000001, None), (0, 1),(None, None),(None, None),(None, None),(None, None),(None, None)],\n",
    "    tol=1e-10,\n",
    "    options={'ftol' : 1e-8},\n",
    ")"
   ]
  },
  {
   "cell_type": "code",
   "execution_count": 41,
   "id": "c7a88546",
   "metadata": {},
   "outputs": [
    {
     "name": "stdout",
     "output_type": "stream",
     "text": [
      "shape_n: 13.0344 \n",
      "alpha: 5.7545 \n",
      "pi: 1.0 \n",
      "beta1: -0.1591 \n",
      "beta2: 0.0666 \n",
      "beta3: -0.097 \n",
      "beta4: -0.0117 \n",
      "beta5: 0.0154\n"
     ]
    }
   ],
   "source": [
    "shape_n = round(soln7.x[0], 4)\n",
    "alpha = round(soln7.x[1], 4)\n",
    "pi = round(soln7.x[2], 4)\n",
    "beta1 = round(soln7.x[3], 4)\n",
    "beta2 = round(soln7.x[4], 4)\n",
    "beta3 = round(soln7.x[5], 4)\n",
    "beta4 = round(soln7.x[6], 4)\n",
    "beta5 = round(soln7.x[7], 4)\n",
    "print('shape_n:', shape_n, '\\nalpha:', alpha, '\\npi:', pi, \n",
    "      '\\nbeta1:', beta1, '\\nbeta2:', beta2, '\\nbeta3:',\n",
    "      beta3, '\\nbeta4:', beta4, '\\nbeta5:', beta5)"
   ]
  },
  {
   "cell_type": "code",
   "execution_count": 42,
   "id": "c26bee30",
   "metadata": {},
   "outputs": [
    {
     "data": {
      "text/plain": [
       "      fun: 1149.7585988968804\n",
       " hess_inv: <8x8 LbfgsInvHessProduct with dtype=float64>\n",
       "      jac: array([ 2.27373657e-05, -2.27373677e-05, -2.37628454e+02,  7.41238182e-03,\n",
       "        2.72848411e-03, -1.14141585e-02, -5.00222086e-03,  1.38470568e-02])\n",
       "  message: 'CONVERGENCE: REL_REDUCTION_OF_F_<=_FACTR*EPSMCH'\n",
       "     nfev: 612\n",
       "      nit: 56\n",
       "     njev: 68\n",
       "   status: 0\n",
       "  success: True\n",
       "        x: array([ 1.30343804e+01,  5.75454835e+00,  1.00000000e+00, -1.59121902e-01,\n",
       "        6.66111609e-02, -9.70200544e-02, -1.16534625e-02,  1.53892750e-02])"
      ]
     },
     "execution_count": 42,
     "metadata": {},
     "output_type": "execute_result"
    }
   ],
   "source": [
    "soln7"
   ]
  },
  {
   "cell_type": "code",
   "execution_count": null,
   "id": "f44fd545",
   "metadata": {},
   "outputs": [],
   "source": []
  },
  {
   "cell_type": "code",
   "execution_count": null,
   "id": "4afd86e9",
   "metadata": {},
   "outputs": [],
   "source": []
  },
  {
   "cell_type": "code",
   "execution_count": null,
   "id": "049288a5",
   "metadata": {},
   "outputs": [],
   "source": []
  },
  {
   "cell_type": "code",
   "execution_count": null,
   "id": "ba96c078",
   "metadata": {},
   "outputs": [],
   "source": []
  },
  {
   "cell_type": "code",
   "execution_count": null,
   "id": "25f2e453",
   "metadata": {},
   "outputs": [],
   "source": []
  },
  {
   "cell_type": "code",
   "execution_count": null,
   "id": "abf25885",
   "metadata": {},
   "outputs": [],
   "source": []
  },
  {
   "cell_type": "code",
   "execution_count": null,
   "id": "72b6f3da",
   "metadata": {},
   "outputs": [],
   "source": []
  },
  {
   "cell_type": "code",
   "execution_count": null,
   "id": "00897fd9",
   "metadata": {},
   "outputs": [],
   "source": []
  },
  {
   "cell_type": "code",
   "execution_count": null,
   "id": "c5af955a",
   "metadata": {},
   "outputs": [],
   "source": []
  },
  {
   "cell_type": "code",
   "execution_count": null,
   "id": "1054a565",
   "metadata": {},
   "outputs": [],
   "source": []
  },
  {
   "cell_type": "code",
   "execution_count": null,
   "id": "cdbaa741",
   "metadata": {},
   "outputs": [],
   "source": []
  },
  {
   "cell_type": "code",
   "execution_count": null,
   "id": "2cb2b980",
   "metadata": {},
   "outputs": [],
   "source": []
  },
  {
   "cell_type": "code",
   "execution_count": null,
   "id": "aef77166",
   "metadata": {},
   "outputs": [],
   "source": []
  },
  {
   "cell_type": "code",
   "execution_count": null,
   "id": "dba4599a",
   "metadata": {},
   "outputs": [],
   "source": []
  },
  {
   "cell_type": "code",
   "execution_count": null,
   "id": "3bd6ea86",
   "metadata": {},
   "outputs": [],
   "source": []
  },
  {
   "cell_type": "code",
   "execution_count": null,
   "id": "6ea4370c",
   "metadata": {},
   "outputs": [],
   "source": []
  },
  {
   "cell_type": "code",
   "execution_count": null,
   "id": "2ea1a9cb",
   "metadata": {},
   "outputs": [],
   "source": []
  },
  {
   "cell_type": "code",
   "execution_count": null,
   "id": "3bb95ec2",
   "metadata": {},
   "outputs": [],
   "source": []
  },
  {
   "cell_type": "code",
   "execution_count": null,
   "id": "1a6178fe",
   "metadata": {},
   "outputs": [],
   "source": []
  },
  {
   "cell_type": "code",
   "execution_count": null,
   "id": "69da5a6f",
   "metadata": {},
   "outputs": [],
   "source": []
  },
  {
   "cell_type": "code",
   "execution_count": null,
   "id": "79bb3e0a",
   "metadata": {},
   "outputs": [],
   "source": []
  },
  {
   "cell_type": "code",
   "execution_count": null,
   "id": "b1a88158",
   "metadata": {},
   "outputs": [],
   "source": []
  },
  {
   "cell_type": "code",
   "execution_count": null,
   "id": "0d01af42",
   "metadata": {},
   "outputs": [],
   "source": []
  },
  {
   "cell_type": "code",
   "execution_count": null,
   "id": "11f3a2d2",
   "metadata": {},
   "outputs": [],
   "source": []
  }
 ],
 "metadata": {
  "kernelspec": {
   "display_name": "Python 3 (ipykernel)",
   "language": "python",
   "name": "python3"
  },
  "language_info": {
   "codemirror_mode": {
    "name": "ipython",
    "version": 3
   },
   "file_extension": ".py",
   "mimetype": "text/x-python",
   "name": "python",
   "nbconvert_exporter": "python",
   "pygments_lexer": "ipython3",
   "version": "3.9.12"
  }
 },
 "nbformat": 4,
 "nbformat_minor": 5
}
